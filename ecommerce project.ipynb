{
 "cells": [
  {
   "cell_type": "markdown",
   "metadata": {},
   "source": [
    "#For this project, we will use e-commerce behavior data from a multi-category store, specifically from November 2019, along with the Pandas and Numpy libraries."
   ]
  },
  {
   "cell_type": "code",
   "execution_count": 1,
   "metadata": {},
   "outputs": [],
   "source": [
    "import pandas as pd\n",
    "import numpy as np\n",
    "import os\n",
    "data_folder = './'\n",
    "file_names = ['2019-Oct.csv','2020-Apr.csv','2020-Feb.csv','2020-Jan.csv','2020-Mar.csv','2019-Dec.csv']\n",
    "all_original_dfs = []\n"
   ]
  },
  {
   "cell_type": "markdown",
   "metadata": {},
   "source": [
    "#Here, we are cleaning and making a copy of the data. We then standarize the \"event_type,\" \"category_code,\" \"brand,\" and \"user_session\" fields by converting them to lowercase and removing any leading or trailing spaces(ETL)."
   ]
  },
  {
   "cell_type": "code",
   "execution_count": 2,
   "metadata": {},
   "outputs": [],
   "source": [
    "for file_name in file_names:\n",
    "    file_path = os.path.join(data_folder, file_name)\n",
    "    try:\n",
    "        df = pd.read_csv(file_path)\n",
    "        data_copy = df.copy()\n",
    "        data_copy['event_time'] = pd.to_datetime(data_copy['event_time'], errors='coerce')\n",
    "        data_copy['DayOfWeek'] = data_copy['event_time'].dt.day_name()\n",
    "        data_copy['DayOfMonth'] = data_copy['event_time'].dt.day\n",
    "        data_copy['MonthName'] = data_copy['event_time'].dt.month_name()\n",
    "        data_copy['HourOfDay'] = data_copy['event_time'].dt.hour\n",
    "        for col in [\"event_type\", \"category_code\", \"brand\", \"user_session\"]:\n",
    "            data_copy[col] = data_copy[col].str.lower().str.strip()\n",
    "        data_copy[['Category', 'Product', 'class', 'grade']] = data_copy[\"category_code\"].str.split(\".\", n=3, expand=True)\n",
    "        per_hour_and_week = data_copy.groupby(['Category','event_type','MonthName','DayOfMonth','DayOfWeek','HourOfDay']).size().reset_index(name='event_count')\n",
    "        all_original_dfs.append(per_hour_and_week)\n",
    "    except FileNotFoundError:\n",
    "        print(f\"  ERROR: Archivo no encontrado en {file_path}. Saltando este archivo.\")\n",
    "    except Exception as e:\n",
    "        print(f\"  ERROR al cargar {file_path}: {e}\")"
   ]
  },
  {
   "cell_type": "markdown",
   "metadata": {},
   "source": [
    "#We split the category_code into four columns because the data is currently delimited by dots. We are doing this to standarize the categories for further analysis"
   ]
  },
  {
   "cell_type": "code",
   "execution_count": 3,
   "metadata": {},
   "outputs": [],
   "source": [
    "final_per_hour_and_week = pd.concat(all_original_dfs, ignore_index=True)\n",
    "output_csv_path = 'per_hour_and_week.csv'\n",
    "final_per_hour_and_week.to_csv(output_csv_path, index=False)\n"
   ]
  }
 ],
 "metadata": {
  "kernelspec": {
   "display_name": "Python 3",
   "language": "python",
   "name": "python3"
  },
  "language_info": {
   "codemirror_mode": {
    "name": "ipython",
    "version": 3
   },
   "file_extension": ".py",
   "mimetype": "text/x-python",
   "name": "python",
   "nbconvert_exporter": "python",
   "pygments_lexer": "ipython3",
   "version": "3.11.9"
  }
 },
 "nbformat": 4,
 "nbformat_minor": 2
}
